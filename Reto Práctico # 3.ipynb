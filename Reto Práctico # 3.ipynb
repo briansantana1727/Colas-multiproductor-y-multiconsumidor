{
 "cells": [
  {
   "cell_type": "markdown",
   "metadata": {},
   "source": [
    "<div style=\"display:flex;flex-direction:row;justify-content: space-evenly;\">\n",
    "    <img src=\"mexico.jpg\" style=\"height:200px;\">\n",
    "    <img src=\"colima.svg\" style=\"width:200px\">\n",
    "</div>\n",
    "<div style=\"display:flex;flex-direction:column;gap:20px;text-align:center\">\n",
    "<h1>Tecnológico Nacional de México campus Colima</h1>\n",
    "<h2>Maestría en Sistemas Computacionales</h2>\n",
    "<h2>Tecnologías de programación</h2>\n",
    "<h2>Actividad - Colas multiproductor y multiconsumidor</h2>\n",
    "<h2>D. en C. Patricia Elizabeth Figueroa Millán</h2>\n",
    "<h3>Brandon Jesus Santana Gudiño | G2146006</h3>\n",
    "<p >Villa de Álvarez, Colima - 13 de noviembre de 2022</p>\n",
    "</div>"
   ]
  },
  {
   "cell_type": "markdown",
   "metadata": {},
   "source": [
    "<h3>Objetivo:</h3>\n",
    "<h4>Hacer una investigación sobre el modulo queue del lenguaje de Python, dicha libreria sirve para hacer el intercambio de información entre diversos hilos.</h4>\n"
   ]
  },
  {
   "cell_type": "markdown",
   "metadata": {},
   "source": [
    "<h3>Metodología:</h3>\n",
    "<h4>Se realiza una investigación en base a la libreria de Python solicitada, ademas de realizar un codigo en Python con el objetivo de apoyar la investigación realizada en este documento.</h4>"
   ]
  },
  {
   "cell_type": "markdown",
   "metadata": {},
   "source": [
    "<h3>Materiales utilizados:</h3>\n",
    "<p>+ Computadora portatil</p>\n",
    "<p>+ Visual Studio Code</p>\n",
    "<p>+ Python</p>\n"
   ]
  },
  {
   "cell_type": "markdown",
   "metadata": {},
   "source": [
    "<h3>Desarrollo:</h3>\n",
    "<h4>En Python la libreria queue implementa las colas multi-productor y multi-consumidor, esta libreria es utilizada en el área de la programación con los hilos cuando se requiere que la información deba intercambiarse de manera segura entre diferentes subprocesos, para estas acciones la clase queue implementa la sinemática de bloqueo necesaria para realizar la actividad.\n",
    "La libreria queue implementa tres diferentes tipos de colas:</h4>\n",
    "<h4>+ En la cola FIFO se realiza que las primeras tareas añadidas son las primeras en ser recuperadas.</h4>\n",
    "<h4>+ En la cola LIFO se realiza que las ultimas entradas añadidas son las primeras en ser recuperadas.</h4>\n",
    "<h4>+ En las colas de prioridad las entradas se mantienen ordenadas y la entrada de menor valor se recupera primero</h4>\n",
    "<h4>Las colas de la libreria queue, utilizan los bloqueos para bloquear temporalmente los hilos que compiten entre si, pero sin embargo, estas colas no estan diseñadas para manejar la reposición dentro de un hilo.</h4>\n",
    "<h4>Otra caracteristica de la libreria es que se puede implementar una cola simple, la cual proporciona garantías adicionales a cambio de una funcionalidad menor.[1][2] </h4>\n"
   ]
  },
  {
   "cell_type": "markdown",
   "metadata": {},
   "source": [
    "<h4>Código de la libreria Queue donde se muestran las colas en funcionamiento.[3] </h4>"
   ]
  },
  {
   "cell_type": "code",
   "execution_count": 3,
   "metadata": {},
   "outputs": [
    {
     "name": "stdout",
     "output_type": "stream",
     "text": [
      "Ejemplo de cola FIFO\n",
      "Perro\n",
      "Gato\n",
      "Conejo\n",
      "\n",
      "Ejemplo de cola LIFO\n",
      "Conejo\n",
      "Gato\n",
      "Perro\n",
      "\n",
      "Ejemplo de cola de prioridad\n",
      "(1, 'Conejo')\n",
      "(2, 'Perro')\n",
      "(3, 'Gato')\n"
     ]
    }
   ],
   "source": [
    "try:\n",
    "    import queue as queue\n",
    "except ImportError:\n",
    "    import queue\n",
    "fifo_queue = queue.Queue(3)\n",
    "lifo_queue = queue.LifoQueue(3)\n",
    "priority_queue = queue.PriorityQueue(3)\n",
    "\n",
    "fifo_queue.put(\"Perro\")\n",
    "fifo_queue.put(\"Gato\")\n",
    "fifo_queue.put(\"Conejo\")\n",
    "\n",
    "lifo_queue.put(\"Perro\")\n",
    "lifo_queue.put(\"Gato\")\n",
    "lifo_queue.put(\"Conejo\")\n",
    "\n",
    "priority_queue.put((2, \"Perro\"))\n",
    "priority_queue.put((3, \"Gato\"))\n",
    "priority_queue.put((1, \"Conejo\"))\n",
    "\n",
    "\n",
    "print(\"Ejemplo de cola FIFO\")\n",
    "print(fifo_queue.get())\n",
    "print(fifo_queue.get())\n",
    "print(fifo_queue.get())\n",
    "\n",
    "print(\"\\nEjemplo de cola LIFO\")\n",
    "print(lifo_queue.get())\n",
    "print(lifo_queue.get())\n",
    "print(lifo_queue.get())\n",
    "\n",
    "print(\"\\nEjemplo de cola de prioridad\")\n",
    "print(priority_queue.get())\n",
    "print(priority_queue.get())\n",
    "print(priority_queue.get())"
   ]
  },
  {
   "cell_type": "markdown",
   "metadata": {},
   "source": [
    "<h3>Conclusiones: </h3>\n",
    "<h4>Para este documento se ha aprendido el funcionamiento de la libreria queue la cual nos permite hacer uso de diferentes colas las cuales de acuerdo a su arquitectura nos permite realizar diferentes acciones, tambien se ha descubierto como hacer que las colas tengan ciertas prioridades y las diferentes formas de implementar las colas. </h4>"
   ]
  },
  {
   "cell_type": "markdown",
   "metadata": {},
   "source": [
    "Referencias:\n",
    "<p>[1]https://recursospython.com/guias-y-manuales/colas-con-el-modulo-queue/</p>\n",
    "<p>[2]https://docs.python.org/es/3/library/queue.html.</p>\n",
    "<p>[3]https://www.javatpoint.com/queue-in-python</p>\n",
    "\n"
   ]
  }
 ],
 "metadata": {
  "kernelspec": {
   "display_name": "Python 3.10.8 64-bit (microsoft store)",
   "language": "python",
   "name": "python3"
  },
  "language_info": {
   "codemirror_mode": {
    "name": "ipython",
    "version": 3
   },
   "file_extension": ".py",
   "mimetype": "text/x-python",
   "name": "python",
   "nbconvert_exporter": "python",
   "pygments_lexer": "ipython3",
   "version": "3.10.8"
  },
  "orig_nbformat": 4,
  "vscode": {
   "interpreter": {
    "hash": "290432a7c5e74225faf3fa52cc26c922d5d39629909ea220d7cdbc10cbc2ef84"
   }
  }
 },
 "nbformat": 4,
 "nbformat_minor": 2
}
